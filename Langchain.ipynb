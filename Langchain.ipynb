{
 "cells": [
  {
   "cell_type": "code",
   "execution_count": 13,
   "metadata": {},
   "outputs": [],
   "source": [
    "import os\n",
    "from dotenv import load_dotenv\n",
    "load_dotenv()\n",
    "\n",
    "# openai\n",
    "OPENAI_API_KEY = os.getenv('OPENAI_API_KEY')\n",
    "\n",
    "# huggingface\n",
    "HF_TOKEN = os.getenv('HF_ACCESS_TOKEN')\n",
    "\n",
    "# google\n",
    "GOOGLE_CSE_ID = os.getenv('GOOGLE_CSE_ID')\n",
    "GOOGLE_API_KEY = os.getenv('GOOGLE_API_KEY')"
   ]
  },
  {
   "cell_type": "markdown",
   "metadata": {},
   "source": [
    "# HTML2Text\n",
    "\n",
    "HTML2Text converts HTML into plain text (with markdown-like formatting) without any specific tag manipulation.\n",
    "\n",
    "To extract human-readable text without needing to manipulate specific HTML elements."
   ]
  },
  {
   "cell_type": "code",
   "execution_count": 2,
   "metadata": {},
   "outputs": [
    {
     "name": "stderr",
     "output_type": "stream",
     "text": [
      "Fetching pages: 100%|##########| 2/2 [00:04<00:00,  2.11s/it]\n"
     ]
    }
   ],
   "source": [
    "from langchain.document_loaders import AsyncHtmlLoader\n",
    "from langchain.document_transformers import Html2TextTransformer\n",
    "\n",
    "urls = [\"https://www.gesetze-im-internet.de/baf_gzuschlagsv/BJNR009350986.html\",\n",
    "        \"https://www.gesetze-im-internet.de/baf_g/BJNR014090971.html\"\n",
    "        ]\n",
    "\n",
    "loader = AsyncHtmlLoader(urls)\n",
    "docs = loader.load()\n",
    "\n",
    "html2text = Html2TextTransformer()\n",
    "docs_transformed = html2text.transform_documents(docs)"
   ]
  },
  {
   "cell_type": "code",
   "execution_count": 8,
   "metadata": {},
   "outputs": [
    {
     "name": "stdout",
     "output_type": "stream",
     "text": [
      "32 am 1.1.1991 in Kraft getreten\n",
      "\n",
      "Nichtamtliches Inhaltsverzeichnis\n",
      "\n",
      "### Eingangsformel\n",
      "\n",
      "Auf Grund des § 13 Abs. 4 des Bundesausbildungsforderungsgesetzes in der\n",
      "Fassung der Bekanntmachung vom 6. Juni 1983 (BGBl. I S. 645) verordnet die\n",
      "Bundesregierung mit Zustimmung des Bundesrates:\n",
      "\n",
      "Nichtamtliches Inhaltsverzeichnis\n",
      "\n",
      "### § 1 Zuschlage zu dem Bedarf\n",
      "\n",
      "(1) Bei einer Ausbildung im Ausland werden in \n"
     ]
    }
   ],
   "source": [
    "print(docs_transformed[0].page_content[1000:1400])"
   ]
  },
  {
   "cell_type": "markdown",
   "metadata": {},
   "source": [
    "# Beautiful Soup\n",
    "\n",
    "Beautiful Soup offers more fine-grained control over HTML content, enabling specific tag extraction, removal, and content cleaning. It's suited for cases where you want to extract specific information and clean up the HTML content according to your needs."
   ]
  },
  {
   "cell_type": "code",
   "execution_count": 17,
   "metadata": {},
   "outputs": [
    {
     "ename": "Error",
     "evalue": "Executable doesn't exist at /home/mz/.cache/ms-playwright/chromium-1076/chrome-linux/chrome\n╔════════════════════════════════════════════════════════════╗\n║ Looks like Playwright was just installed or updated.       ║\n║ Please run the following command to download new browsers: ║\n║                                                            ║\n║     playwright install                                     ║\n║                                                            ║\n║ <3 Playwright Team                                         ║\n╚════════════════════════════════════════════════════════════╝",
     "output_type": "error",
     "traceback": [
      "\u001b[0;31m---------------------------------------------------------------------------\u001b[0m",
      "\u001b[0;31mError\u001b[0m                                     Traceback (most recent call last)",
      "Cell \u001b[0;32mIn[17], line 52\u001b[0m\n\u001b[1;32m     48\u001b[0m     \u001b[39mreturn\u001b[39;00m extracted_content\n\u001b[1;32m     51\u001b[0m urls \u001b[39m=\u001b[39m [\u001b[39m\"\u001b[39m\u001b[39mhttps://www.wsj.com\u001b[39m\u001b[39m\"\u001b[39m]\n\u001b[0;32m---> 52\u001b[0m extracted_content \u001b[39m=\u001b[39m scrape_with_playwright(urls, schema\u001b[39m=\u001b[39;49mschema)\n",
      "Cell \u001b[0;32mIn[17], line 32\u001b[0m, in \u001b[0;36mscrape_with_playwright\u001b[0;34m(urls, schema)\u001b[0m\n\u001b[1;32m     30\u001b[0m \u001b[39mdef\u001b[39;00m \u001b[39mscrape_with_playwright\u001b[39m(urls, schema):\n\u001b[1;32m     31\u001b[0m     loader \u001b[39m=\u001b[39m AsyncChromiumLoader(urls)\n\u001b[0;32m---> 32\u001b[0m     docs \u001b[39m=\u001b[39m loader\u001b[39m.\u001b[39;49mload()\n\u001b[1;32m     33\u001b[0m     bs_transformer \u001b[39m=\u001b[39m BeautifulSoupTransformer()\n\u001b[1;32m     34\u001b[0m     docs_transformed \u001b[39m=\u001b[39m bs_transformer\u001b[39m.\u001b[39mtransform_documents(\n\u001b[1;32m     35\u001b[0m         docs, tags_to_extract\u001b[39m=\u001b[39m[\u001b[39m\"\u001b[39m\u001b[39mspan\u001b[39m\u001b[39m\"\u001b[39m]\n\u001b[1;32m     36\u001b[0m     )\n",
      "File \u001b[0;32m~/code/MaCoZu/social-media-stats-servant/project/lib/python3.10/site-packages/langchain/document_loaders/chromium.py:90\u001b[0m, in \u001b[0;36mAsyncChromiumLoader.load\u001b[0;34m(self)\u001b[0m\n\u001b[1;32m     81\u001b[0m \u001b[39mdef\u001b[39;00m \u001b[39mload\u001b[39m(\u001b[39mself\u001b[39m) \u001b[39m-\u001b[39m\u001b[39m>\u001b[39m List[Document]:\n\u001b[1;32m     82\u001b[0m \u001b[39m    \u001b[39m\u001b[39m\"\"\"\u001b[39;00m\n\u001b[1;32m     83\u001b[0m \u001b[39m    Load and return all Documents from the provided URLs.\u001b[39;00m\n\u001b[1;32m     84\u001b[0m \n\u001b[0;32m   (...)\u001b[0m\n\u001b[1;32m     88\u001b[0m \n\u001b[1;32m     89\u001b[0m \u001b[39m    \"\"\"\u001b[39;00m\n\u001b[0;32m---> 90\u001b[0m     \u001b[39mreturn\u001b[39;00m \u001b[39mlist\u001b[39;49m(\u001b[39mself\u001b[39;49m\u001b[39m.\u001b[39;49mlazy_load())\n",
      "File \u001b[0;32m~/code/MaCoZu/social-media-stats-servant/project/lib/python3.10/site-packages/langchain/document_loaders/chromium.py:77\u001b[0m, in \u001b[0;36mAsyncChromiumLoader.lazy_load\u001b[0;34m(self)\u001b[0m\n\u001b[1;32m     66\u001b[0m \u001b[39m\u001b[39m\u001b[39m\"\"\"\u001b[39;00m\n\u001b[1;32m     67\u001b[0m \u001b[39mLazily load text content from the provided URLs.\u001b[39;00m\n\u001b[1;32m     68\u001b[0m \n\u001b[0;32m   (...)\u001b[0m\n\u001b[1;32m     74\u001b[0m \n\u001b[1;32m     75\u001b[0m \u001b[39m\"\"\"\u001b[39;00m\n\u001b[1;32m     76\u001b[0m \u001b[39mfor\u001b[39;00m url \u001b[39min\u001b[39;00m \u001b[39mself\u001b[39m\u001b[39m.\u001b[39murls:\n\u001b[0;32m---> 77\u001b[0m     html_content \u001b[39m=\u001b[39m asyncio\u001b[39m.\u001b[39;49mrun(\u001b[39mself\u001b[39;49m\u001b[39m.\u001b[39;49mascrape_playwright(url))\n\u001b[1;32m     78\u001b[0m     metadata \u001b[39m=\u001b[39m {\u001b[39m\"\u001b[39m\u001b[39msource\u001b[39m\u001b[39m\"\u001b[39m: url}\n\u001b[1;32m     79\u001b[0m     \u001b[39myield\u001b[39;00m Document(page_content\u001b[39m=\u001b[39mhtml_content, metadata\u001b[39m=\u001b[39mmetadata)\n",
      "File \u001b[0;32m~/code/MaCoZu/social-media-stats-servant/project/lib/python3.10/site-packages/nest_asyncio.py:31\u001b[0m, in \u001b[0;36m_patch_asyncio.<locals>.run\u001b[0;34m(main, debug)\u001b[0m\n\u001b[1;32m     29\u001b[0m task \u001b[39m=\u001b[39m asyncio\u001b[39m.\u001b[39mensure_future(main)\n\u001b[1;32m     30\u001b[0m \u001b[39mtry\u001b[39;00m:\n\u001b[0;32m---> 31\u001b[0m     \u001b[39mreturn\u001b[39;00m loop\u001b[39m.\u001b[39;49mrun_until_complete(task)\n\u001b[1;32m     32\u001b[0m \u001b[39mfinally\u001b[39;00m:\n\u001b[1;32m     33\u001b[0m     \u001b[39mif\u001b[39;00m \u001b[39mnot\u001b[39;00m task\u001b[39m.\u001b[39mdone():\n",
      "File \u001b[0;32m~/code/MaCoZu/social-media-stats-servant/project/lib/python3.10/site-packages/nest_asyncio.py:99\u001b[0m, in \u001b[0;36m_patch_loop.<locals>.run_until_complete\u001b[0;34m(self, future)\u001b[0m\n\u001b[1;32m     96\u001b[0m \u001b[39mif\u001b[39;00m \u001b[39mnot\u001b[39;00m f\u001b[39m.\u001b[39mdone():\n\u001b[1;32m     97\u001b[0m     \u001b[39mraise\u001b[39;00m \u001b[39mRuntimeError\u001b[39;00m(\n\u001b[1;32m     98\u001b[0m         \u001b[39m'\u001b[39m\u001b[39mEvent loop stopped before Future completed.\u001b[39m\u001b[39m'\u001b[39m)\n\u001b[0;32m---> 99\u001b[0m \u001b[39mreturn\u001b[39;00m f\u001b[39m.\u001b[39;49mresult()\n",
      "File \u001b[0;32m/usr/lib/python3.10/asyncio/futures.py:201\u001b[0m, in \u001b[0;36mFuture.result\u001b[0;34m(self)\u001b[0m\n\u001b[1;32m    199\u001b[0m \u001b[39mself\u001b[39m\u001b[39m.\u001b[39m__log_traceback \u001b[39m=\u001b[39m \u001b[39mFalse\u001b[39;00m\n\u001b[1;32m    200\u001b[0m \u001b[39mif\u001b[39;00m \u001b[39mself\u001b[39m\u001b[39m.\u001b[39m_exception \u001b[39mis\u001b[39;00m \u001b[39mnot\u001b[39;00m \u001b[39mNone\u001b[39;00m:\n\u001b[0;32m--> 201\u001b[0m     \u001b[39mraise\u001b[39;00m \u001b[39mself\u001b[39m\u001b[39m.\u001b[39m_exception\u001b[39m.\u001b[39mwith_traceback(\u001b[39mself\u001b[39m\u001b[39m.\u001b[39m_exception_tb)\n\u001b[1;32m    202\u001b[0m \u001b[39mreturn\u001b[39;00m \u001b[39mself\u001b[39m\u001b[39m.\u001b[39m_result\n",
      "File \u001b[0;32m/usr/lib/python3.10/asyncio/tasks.py:232\u001b[0m, in \u001b[0;36mTask.__step\u001b[0;34m(***failed resolving arguments***)\u001b[0m\n\u001b[1;32m    228\u001b[0m \u001b[39mtry\u001b[39;00m:\n\u001b[1;32m    229\u001b[0m     \u001b[39mif\u001b[39;00m exc \u001b[39mis\u001b[39;00m \u001b[39mNone\u001b[39;00m:\n\u001b[1;32m    230\u001b[0m         \u001b[39m# We use the `send` method directly, because coroutines\u001b[39;00m\n\u001b[1;32m    231\u001b[0m         \u001b[39m# don't have `__iter__` and `__next__` methods.\u001b[39;00m\n\u001b[0;32m--> 232\u001b[0m         result \u001b[39m=\u001b[39m coro\u001b[39m.\u001b[39;49msend(\u001b[39mNone\u001b[39;49;00m)\n\u001b[1;32m    233\u001b[0m     \u001b[39melse\u001b[39;00m:\n\u001b[1;32m    234\u001b[0m         result \u001b[39m=\u001b[39m coro\u001b[39m.\u001b[39mthrow(exc)\n",
      "File \u001b[0;32m~/code/MaCoZu/social-media-stats-servant/project/lib/python3.10/site-packages/langchain/document_loaders/chromium.py:54\u001b[0m, in \u001b[0;36mAsyncChromiumLoader.ascrape_playwright\u001b[0;34m(self, url)\u001b[0m\n\u001b[1;32m     52\u001b[0m results \u001b[39m=\u001b[39m \u001b[39m\"\u001b[39m\u001b[39m\"\u001b[39m\n\u001b[1;32m     53\u001b[0m \u001b[39masync\u001b[39;00m \u001b[39mwith\u001b[39;00m async_playwright() \u001b[39mas\u001b[39;00m p:\n\u001b[0;32m---> 54\u001b[0m     browser \u001b[39m=\u001b[39m \u001b[39mawait\u001b[39;00m p\u001b[39m.\u001b[39mchromium\u001b[39m.\u001b[39mlaunch(headless\u001b[39m=\u001b[39m\u001b[39mTrue\u001b[39;00m)\n\u001b[1;32m     55\u001b[0m     \u001b[39mtry\u001b[39;00m:\n\u001b[1;32m     56\u001b[0m         page \u001b[39m=\u001b[39m \u001b[39mawait\u001b[39;00m browser\u001b[39m.\u001b[39mnew_page()\n",
      "File \u001b[0;32m~/code/MaCoZu/social-media-stats-servant/project/lib/python3.10/site-packages/playwright/async_api/_generated.py:14675\u001b[0m, in \u001b[0;36mBrowserType.launch\u001b[0;34m(self, executable_path, channel, args, ignore_default_args, handle_sigint, handle_sigterm, handle_sighup, timeout, env, headless, devtools, proxy, downloads_path, slow_mo, traces_dir, chromium_sandbox, firefox_user_prefs)\u001b[0m\n\u001b[1;32m  14557\u001b[0m \u001b[39masync\u001b[39;00m \u001b[39mdef\u001b[39;00m \u001b[39mlaunch\u001b[39m(\n\u001b[1;32m  14558\u001b[0m     \u001b[39mself\u001b[39m,\n\u001b[1;32m  14559\u001b[0m     \u001b[39m*\u001b[39m,\n\u001b[0;32m   (...)\u001b[0m\n\u001b[1;32m  14580\u001b[0m     ] \u001b[39m=\u001b[39m \u001b[39mNone\u001b[39;00m\n\u001b[1;32m  14581\u001b[0m ) \u001b[39m-\u001b[39m\u001b[39m>\u001b[39m \u001b[39m\"\u001b[39m\u001b[39mBrowser\u001b[39m\u001b[39m\"\u001b[39m:\n\u001b[1;32m  14582\u001b[0m \u001b[39m    \u001b[39m\u001b[39m\"\"\"BrowserType.launch\u001b[39;00m\n\u001b[1;32m  14583\u001b[0m \n\u001b[1;32m  14584\u001b[0m \u001b[39m    Returns the browser instance.\u001b[39;00m\n\u001b[0;32m   (...)\u001b[0m\n\u001b[1;32m  14671\u001b[0m \u001b[39m    Browser\u001b[39;00m\n\u001b[1;32m  14672\u001b[0m \u001b[39m    \"\"\"\u001b[39;00m\n\u001b[1;32m  14674\u001b[0m     \u001b[39mreturn\u001b[39;00m mapping\u001b[39m.\u001b[39mfrom_impl(\n\u001b[0;32m> 14675\u001b[0m         \u001b[39mawait\u001b[39;00m \u001b[39mself\u001b[39m\u001b[39m.\u001b[39m_impl_obj\u001b[39m.\u001b[39mlaunch(\n\u001b[1;32m  14676\u001b[0m             executablePath\u001b[39m=\u001b[39mexecutable_path,\n\u001b[1;32m  14677\u001b[0m             channel\u001b[39m=\u001b[39mchannel,\n\u001b[1;32m  14678\u001b[0m             args\u001b[39m=\u001b[39mmapping\u001b[39m.\u001b[39mto_impl(args),\n\u001b[1;32m  14679\u001b[0m             ignoreDefaultArgs\u001b[39m=\u001b[39mmapping\u001b[39m.\u001b[39mto_impl(ignore_default_args),\n\u001b[1;32m  14680\u001b[0m             handleSIGINT\u001b[39m=\u001b[39mhandle_sigint,\n\u001b[1;32m  14681\u001b[0m             handleSIGTERM\u001b[39m=\u001b[39mhandle_sigterm,\n\u001b[1;32m  14682\u001b[0m             handleSIGHUP\u001b[39m=\u001b[39mhandle_sighup,\n\u001b[1;32m  14683\u001b[0m             timeout\u001b[39m=\u001b[39mtimeout,\n\u001b[1;32m  14684\u001b[0m             env\u001b[39m=\u001b[39mmapping\u001b[39m.\u001b[39mto_impl(env),\n\u001b[1;32m  14685\u001b[0m             headless\u001b[39m=\u001b[39mheadless,\n\u001b[1;32m  14686\u001b[0m             devtools\u001b[39m=\u001b[39mdevtools,\n\u001b[1;32m  14687\u001b[0m             proxy\u001b[39m=\u001b[39mproxy,\n\u001b[1;32m  14688\u001b[0m             downloadsPath\u001b[39m=\u001b[39mdownloads_path,\n\u001b[1;32m  14689\u001b[0m             slowMo\u001b[39m=\u001b[39mslow_mo,\n\u001b[1;32m  14690\u001b[0m             tracesDir\u001b[39m=\u001b[39mtraces_dir,\n\u001b[1;32m  14691\u001b[0m             chromiumSandbox\u001b[39m=\u001b[39mchromium_sandbox,\n\u001b[1;32m  14692\u001b[0m             firefoxUserPrefs\u001b[39m=\u001b[39mmapping\u001b[39m.\u001b[39mto_impl(firefox_user_prefs),\n\u001b[1;32m  14693\u001b[0m         )\n\u001b[1;32m  14694\u001b[0m     )\n",
      "File \u001b[0;32m~/code/MaCoZu/social-media-stats-servant/project/lib/python3.10/site-packages/playwright/_impl/_browser_type.py:96\u001b[0m, in \u001b[0;36mBrowserType.launch\u001b[0;34m(self, executablePath, channel, args, ignoreDefaultArgs, handleSIGINT, handleSIGTERM, handleSIGHUP, timeout, env, headless, devtools, proxy, downloadsPath, slowMo, tracesDir, chromiumSandbox, firefoxUserPrefs)\u001b[0m\n\u001b[1;32m     93\u001b[0m params \u001b[39m=\u001b[39m locals_to_params(\u001b[39mlocals\u001b[39m())\n\u001b[1;32m     94\u001b[0m normalize_launch_params(params)\n\u001b[1;32m     95\u001b[0m browser \u001b[39m=\u001b[39m cast(\n\u001b[0;32m---> 96\u001b[0m     Browser, from_channel(\u001b[39mawait\u001b[39;00m \u001b[39mself\u001b[39m\u001b[39m.\u001b[39m_channel\u001b[39m.\u001b[39msend(\u001b[39m\"\u001b[39m\u001b[39mlaunch\u001b[39m\u001b[39m\"\u001b[39m, params))\n\u001b[1;32m     97\u001b[0m )\n\u001b[1;32m     98\u001b[0m \u001b[39mself\u001b[39m\u001b[39m.\u001b[39m_did_launch_browser(browser)\n\u001b[1;32m     99\u001b[0m \u001b[39mreturn\u001b[39;00m browser\n",
      "File \u001b[0;32m~/code/MaCoZu/social-media-stats-servant/project/lib/python3.10/site-packages/playwright/_impl/_connection.py:61\u001b[0m, in \u001b[0;36mChannel.send\u001b[0;34m(self, method, params)\u001b[0m\n\u001b[1;32m     60\u001b[0m \u001b[39masync\u001b[39;00m \u001b[39mdef\u001b[39;00m \u001b[39msend\u001b[39m(\u001b[39mself\u001b[39m, method: \u001b[39mstr\u001b[39m, params: Dict \u001b[39m=\u001b[39m \u001b[39mNone\u001b[39;00m) \u001b[39m-\u001b[39m\u001b[39m>\u001b[39m Any:\n\u001b[0;32m---> 61\u001b[0m     \u001b[39mreturn\u001b[39;00m \u001b[39mawait\u001b[39;00m \u001b[39mself\u001b[39m\u001b[39m.\u001b[39m_connection\u001b[39m.\u001b[39mwrap_api_call(\n\u001b[1;32m     62\u001b[0m         \u001b[39mlambda\u001b[39;00m: \u001b[39mself\u001b[39m\u001b[39m.\u001b[39minner_send(method, params, \u001b[39mFalse\u001b[39;00m)\n\u001b[1;32m     63\u001b[0m     )\n",
      "File \u001b[0;32m~/code/MaCoZu/social-media-stats-servant/project/lib/python3.10/site-packages/playwright/_impl/_connection.py:482\u001b[0m, in \u001b[0;36mConnection.wrap_api_call\u001b[0;34m(self, cb, is_internal)\u001b[0m\n\u001b[1;32m    480\u001b[0m \u001b[39mself\u001b[39m\u001b[39m.\u001b[39m_api_zone\u001b[39m.\u001b[39mset(_extract_stack_trace_information_from_stack(st, is_internal))\n\u001b[1;32m    481\u001b[0m \u001b[39mtry\u001b[39;00m:\n\u001b[0;32m--> 482\u001b[0m     \u001b[39mreturn\u001b[39;00m \u001b[39mawait\u001b[39;00m cb()\n\u001b[1;32m    483\u001b[0m \u001b[39mfinally\u001b[39;00m:\n\u001b[1;32m    484\u001b[0m     \u001b[39mself\u001b[39m\u001b[39m.\u001b[39m_api_zone\u001b[39m.\u001b[39mset(\u001b[39mNone\u001b[39;00m)\n",
      "File \u001b[0;32m~/code/MaCoZu/social-media-stats-servant/project/lib/python3.10/site-packages/playwright/_impl/_connection.py:97\u001b[0m, in \u001b[0;36mChannel.inner_send\u001b[0;34m(self, method, params, return_as_dict)\u001b[0m\n\u001b[1;32m     95\u001b[0m \u001b[39mif\u001b[39;00m \u001b[39mnot\u001b[39;00m callback\u001b[39m.\u001b[39mfuture\u001b[39m.\u001b[39mdone():\n\u001b[1;32m     96\u001b[0m     callback\u001b[39m.\u001b[39mfuture\u001b[39m.\u001b[39mcancel()\n\u001b[0;32m---> 97\u001b[0m result \u001b[39m=\u001b[39m \u001b[39mnext\u001b[39;49m(\u001b[39miter\u001b[39;49m(done))\u001b[39m.\u001b[39;49mresult()\n\u001b[1;32m     98\u001b[0m \u001b[39m# Protocol now has named return values, assume result is one level deeper unless\u001b[39;00m\n\u001b[1;32m     99\u001b[0m \u001b[39m# there is explicit ambiguity.\u001b[39;00m\n\u001b[1;32m    100\u001b[0m \u001b[39mif\u001b[39;00m \u001b[39mnot\u001b[39;00m result:\n",
      "File \u001b[0;32m/usr/lib/python3.10/asyncio/futures.py:201\u001b[0m, in \u001b[0;36mFuture.result\u001b[0;34m(self)\u001b[0m\n\u001b[1;32m    199\u001b[0m \u001b[39mself\u001b[39m\u001b[39m.\u001b[39m__log_traceback \u001b[39m=\u001b[39m \u001b[39mFalse\u001b[39;00m\n\u001b[1;32m    200\u001b[0m \u001b[39mif\u001b[39;00m \u001b[39mself\u001b[39m\u001b[39m.\u001b[39m_exception \u001b[39mis\u001b[39;00m \u001b[39mnot\u001b[39;00m \u001b[39mNone\u001b[39;00m:\n\u001b[0;32m--> 201\u001b[0m     \u001b[39mraise\u001b[39;00m \u001b[39mself\u001b[39m\u001b[39m.\u001b[39m_exception\u001b[39m.\u001b[39mwith_traceback(\u001b[39mself\u001b[39m\u001b[39m.\u001b[39m_exception_tb)\n\u001b[1;32m    202\u001b[0m \u001b[39mreturn\u001b[39;00m \u001b[39mself\u001b[39m\u001b[39m.\u001b[39m_result\n",
      "\u001b[0;31mError\u001b[0m: Executable doesn't exist at /home/mz/.cache/ms-playwright/chromium-1076/chrome-linux/chrome\n╔════════════════════════════════════════════════════════════╗\n║ Looks like Playwright was just installed or updated.       ║\n║ Please run the following command to download new browsers: ║\n║                                                            ║\n║     playwright install                                     ║\n║                                                            ║\n║ <3 Playwright Team                                         ║\n╚════════════════════════════════════════════════════════════╝"
     ]
    }
   ],
   "source": [
    "import pprint\n",
    "\n",
    "from langchain.chains import create_extraction_chain\n",
    "from langchain.chat_models import ChatOpenAI\n",
    "from langchain.document_loaders import AsyncChromiumLoader\n",
    "from langchain.document_transformers import BeautifulSoupTransformer\n",
    "from langchain.text_splitter import RecursiveCharacterTextSplitter\n",
    "\n",
    "import nest_asyncio\n",
    "\n",
    "nest_asyncio.apply()\n",
    "\n",
    "\n",
    "llm = ChatOpenAI(temperature=0, model=\"gpt-3.5-turbo-0613\")\n",
    "\n",
    "\n",
    "schema = {\n",
    "    \"properties\": {\n",
    "        \"news_article_title\": {\"type\": \"string\"},\n",
    "        \"news_article_summary\": {\"type\": \"string\"},\n",
    "    },\n",
    "    \"required\": [\"news_article_title\", \"news_article_summary\"],\n",
    "}\n",
    "\n",
    "\n",
    "def extract(content: str, schema: dict):\n",
    "    return create_extraction_chain(schema=schema, llm=llm).run(content)\n",
    "\n",
    "\n",
    "def scrape_with_playwright(urls, schema):\n",
    "    loader = AsyncChromiumLoader(urls)\n",
    "    docs = loader.load()\n",
    "    bs_transformer = BeautifulSoupTransformer()\n",
    "    docs_transformed = bs_transformer.transform_documents(\n",
    "        docs, tags_to_extract=[\"span\"]\n",
    "    )\n",
    "    print(\"Extracting content with LLM\")\n",
    "\n",
    "    # Grab the first 1000 tokens of the site\n",
    "    splitter = RecursiveCharacterTextSplitter.from_tiktoken_encoder(\n",
    "        chunk_size=1000, chunk_overlap=0\n",
    "    )\n",
    "    splits = splitter.split_documents(docs_transformed)\n",
    "\n",
    "    # Process the first split\n",
    "    extracted_content = extract(schema=schema, content=splits[0].page_content)\n",
    "    pprint.pprint(extracted_content)\n",
    "    return extracted_content\n",
    "\n",
    "\n",
    "urls = [\"https://www.wsj.com\"]\n",
    "extracted_content = scrape_with_playwright(urls, schema=schema)"
   ]
  },
  {
   "cell_type": "markdown",
   "metadata": {},
   "source": [
    "# Serper"
   ]
  },
  {
   "cell_type": "code",
   "execution_count": 8,
   "metadata": {
    "vscode": {
     "languageId": "html"
    }
   },
   "outputs": [
    {
     "ename": "SyntaxError",
     "evalue": "invalid syntax (4280331964.py, line 1)",
     "output_type": "error",
     "traceback": [
      "\u001b[0;36m  Cell \u001b[0;32mIn[8], line 1\u001b[0;36m\u001b[0m\n\u001b[0;31m    <img src=\"https://miro.medium.com/v2/resize:fit:4800/format:webp/1*5TnpUZnp4-sq8TuJGYe_-w.png\" alt=\"image info\"/>\u001b[0m\n\u001b[0m    ^\u001b[0m\n\u001b[0;31mSyntaxError\u001b[0m\u001b[0;31m:\u001b[0m invalid syntax\n"
     ]
    }
   ],
   "source": [
    "<img src=\"https://miro.medium.com/v2/resize:fit:4800/format:webp/1*5TnpUZnp4-sq8TuJGYe_-w.png\" alt=\"image info\" />"
   ]
  },
  {
   "cell_type": "code",
   "execution_count": 39,
   "metadata": {},
   "outputs": [
    {
     "name": "stdout",
     "output_type": "stream",
     "text": [
      "\n",
      "\n",
      "\u001b[1m> Entering new AgentExecutor chain...\u001b[0m\n",
      "\u001b[32;1m\u001b[1;3m Yes.\n",
      "Follow up: What is the Wohnungsaufsichtsgesetz?\u001b[0m\n",
      "Intermediate answer: \u001b[36;1m\u001b[1;3m['Ein Wohnungsaufsichtsgesetz regelt Pflichten der Vermieter. Deutschland Bearbeiten. In Deutschland existieren in einigen Bundesländern ...']\u001b[0m\n",
      "\u001b[32;1m\u001b[1;3mFollow up: Where can I find the Wohnungsaufsichtsgesetz for Berlin Germany?\u001b[0m\n",
      "Intermediate answer: \u001b[36;1m\u001b[1;3m[\"It was based on a paragraph in Berlin's Wohnungsaufsichtsgesetz (housing regulation) which states that every rental flat must have adequate ...\"]\u001b[0m\n",
      "\u001b[32;1m\u001b[1;3mSo the final answer is: It was based on a paragraph in Berlin's Wohnungsaufsichtsgesetz (housing regulation) which states that every rental flat must have adequate ...\u001b[0m\n",
      "\n",
      "\u001b[1m> Finished chain.\u001b[0m\n"
     ]
    },
    {
     "data": {
      "text/plain": [
       "\"It was based on a paragraph in Berlin's Wohnungsaufsichtsgesetz (housing regulation) which states that every rental flat must have adequate ...\""
      ]
     },
     "execution_count": 39,
     "metadata": {},
     "output_type": "execute_result"
    }
   ],
   "source": [
    "from langchain import OpenAI, SerpAPIWrapper\n",
    "from langchain.agents import initialize_agent, Tool\n",
    "from langchain.agents import AgentType\n",
    "\n",
    "SERPAPI_API_KEY = os.getenv('SERPAPI_API_KEY')\n",
    "\n",
    "\n",
    "llm = OpenAI(temperature=0)\n",
    "\n",
    "search = SerpAPIWrapper(serpapi_api_key=SERPAPI_API_KEY)\n",
    "\n",
    "tools = [\n",
    "    Tool(\n",
    "        name=\"Intermediate Answer\",\n",
    "        func=search.run,\n",
    "        description=\"useful for when you need to ask with search\", ) ]\n",
    "\n",
    "self_ask_with_search = initialize_agent(\n",
    "    tools, llm, agent=AgentType.SELF_ASK_WITH_SEARCH, verbose=True\n",
    ")\n",
    "self_ask_with_search.run(\n",
    "    \"Where can I find the Wohnungsaufsichtsgesetz for Berlin Germany?\"\n",
    ")"
   ]
  },
  {
   "cell_type": "markdown",
   "metadata": {},
   "source": [
    "# Google Programmable Search \n",
    "https://cse.google.com/cse.js?cx=8566b4b2cb2364df3"
   ]
  },
  {
   "cell_type": "code",
   "execution_count": 53,
   "metadata": {},
   "outputs": [
    {
     "data": {
      "text/plain": [
       "[{'title': 'Wohnungsaufsichtsgesetz – Wikipedia',\n",
       "  'link': 'https://de.wikipedia.org/wiki/Wohnungsaufsichtsgesetz',\n",
       "  'snippet': 'Ein Wohnungsaufsichtsgesetz regelt Pflichten der Vermieter. Deutschland Bearbeiten. In Deutschland existieren in einigen Bundesländern\\xa0...'},\n",
       " {'title': 'Wohnungsaufsichtsgesetz (Berlin) – Wikipedia',\n",
       "  'link': 'https://de.wikipedia.org/wiki/Wohnungsaufsichtsgesetz_(Berlin)',\n",
       "  'snippet': 'Das Gesetz zur Beseitigung von Wohnungsmißständen in Berlin (Wohnungsaufsichtsgesetz – WoAufG Bln) in der Fassung vom 3.'},\n",
       " {'title': 'Susanna Kahlefeld - Gesetz- und Verordnungsblatt',\n",
       "  'link': 'https://www.berlin.de/sen/justiz/service/gesetze-und-verordnungen/2020/ausgabe-nr-15-vom-18-4-2020-s-245-256.pdf',\n",
       "  'snippet': 'Apr 18, 2020 ... zur Änderung des Wohnungsaufsichtsgesetzes. Vom 7. April 2020 ... Das Wohnungsaufsichtsgesetz in der Fassung vom 3. April 1990.'},\n",
       " {'title': 'Gesetz- und Verordnungsblatt',\n",
       "  'link': 'https://www.berlin.de/sen/justiz/service/gesetze-und-verordnungen/2019/ausgabe-nr-10-vom-29-3-2019-s-233-244.pdf',\n",
       "  'snippet': 'Mar 29, 2019 ... zur Änderung des Wohnungsaufsichtsgesetzes. Vom 20. März 2019. Das Abgeordnetenhaus hat das folgende Gesetz beschlossen: Artikel 1.'},\n",
       " {'title': 'Andrea Breit – Wikipedia',\n",
       "  'link': 'https://de.wikipedia.org/wiki/Andrea_Breit',\n",
       "  'snippet': 'Andrea Breit (geboren 8. April 1963 in München) ist eine deutsche Juristin, Richterin und ... Wohnungsaufsichtsgesetz, Raumordnung und Landesplanung, Baurecht,\\xa0...'},\n",
       " {'title': 'Kategorie:Gesetz (Berlin) – Wikipedia',\n",
       "  'link': 'https://de.wikipedia.org/wiki/Kategorie:Gesetz_(Berlin)',\n",
       "  'snippet': 'Wohnungsaufsichtsgesetz (Berlin). Z. Zweckentfremdungsverbot-Gesetz (Berlin) · Zuletzt bearbeitet vor 3 Jahren. Sprachen. Diese Seite ist nicht in anderen\\xa0...'}]"
      ]
     },
     "execution_count": 53,
     "metadata": {},
     "output_type": "execute_result"
    }
   ],
   "source": [
    "from langchain.tools import Tool\n",
    "from langchain.utilities import GoogleSearchAPIWrapper\n",
    "\n",
    "\n",
    "\n",
    "search = GoogleSearchAPIWrapper(google_api_key=google_api_key, google_cse_id=google_cse_id)\n",
    "\n",
    "def top5_results(query):\n",
    "    return search.results(query, 6)\n",
    "\n",
    "\n",
    "tool = Tool(\n",
    "    name=\"Google Search Snippets\",\n",
    "    description=\"Search Google for recent results.\",\n",
    "    func=top5_results,\n",
    ")\n",
    "\n",
    "\n",
    "tool.run(\"Wohnungsaufsichtsgesetz?\")"
   ]
  },
  {
   "cell_type": "markdown",
   "metadata": {},
   "source": [
    "# HfAgent"
   ]
  },
  {
   "cell_type": "code",
   "execution_count": 54,
   "metadata": {},
   "outputs": [
    {
     "name": "stdout",
     "output_type": "stream",
     "text": [
      "Token will not been saved to git credential helper. Pass `add_to_git_credential=True` if you want to set the git credential as well.\n",
      "Token is valid (permission: write).\n",
      "Your token has been saved to /home/mz/.cache/huggingface/token\n",
      "Login successful\n"
     ]
    }
   ],
   "source": [
    "from huggingface_hub import login\n",
    "# login(\"<YOUR_TOKEN>\")\n",
    "login(\"\")"
   ]
  },
  {
   "cell_type": "code",
   "execution_count": 57,
   "metadata": {},
   "outputs": [
    {
     "ename": "AttributeError",
     "evalue": "module transformers.tools has no attribute DocumentQuestionAnsweringTool",
     "output_type": "error",
     "traceback": [
      "\u001b[0;31m---------------------------------------------------------------------------\u001b[0m",
      "\u001b[0;31mAttributeError\u001b[0m                            Traceback (most recent call last)",
      "Cell \u001b[0;32mIn[57], line 6\u001b[0m\n\u001b[1;32m      2\u001b[0m \u001b[39mimport\u001b[39;00m \u001b[39mtextract\u001b[39;00m\n\u001b[1;32m      4\u001b[0m text \u001b[39m=\u001b[39m textract\u001b[39m.\u001b[39mprocess(\u001b[39m'\u001b[39m\u001b[39mdebatten.pdf\u001b[39m\u001b[39m'\u001b[39m)\u001b[39m.\u001b[39mdecode(\u001b[39m'\u001b[39m\u001b[39mutf-8\u001b[39m\u001b[39m'\u001b[39m)\n\u001b[0;32m----> 6\u001b[0m agent \u001b[39m=\u001b[39m HfAgent(\u001b[39m\"\u001b[39;49m\u001b[39mhttps://api-inference.huggingface.co/models/bigcode/starcoder\u001b[39;49m\u001b[39m\"\u001b[39;49m)\n\u001b[1;32m      7\u001b[0m agent\u001b[39m.\u001b[39mrun(\u001b[39mf\u001b[39m\u001b[39m\"\u001b[39m\u001b[39mcan you summarize \u001b[39m\u001b[39m{\u001b[39;00mtext\u001b[39m}\u001b[39;00m\u001b[39m for me\u001b[39m\u001b[39m\"\u001b[39m)\n",
      "File \u001b[0;32m~/code/MaCoZu/social-media-stats-servant/project/lib/python3.10/site-packages/transformers/tools/agents.py:630\u001b[0m, in \u001b[0;36mHfAgent.__init__\u001b[0;34m(self, url_endpoint, token, chat_prompt_template, run_prompt_template, additional_tools)\u001b[0m\n\u001b[1;32m    628\u001b[0m \u001b[39melse\u001b[39;00m:\n\u001b[1;32m    629\u001b[0m     \u001b[39mself\u001b[39m\u001b[39m.\u001b[39mtoken \u001b[39m=\u001b[39m \u001b[39mf\u001b[39m\u001b[39m\"\u001b[39m\u001b[39mBearer \u001b[39m\u001b[39m{\u001b[39;00mtoken\u001b[39m}\u001b[39;00m\u001b[39m\"\u001b[39m\n\u001b[0;32m--> 630\u001b[0m \u001b[39msuper\u001b[39;49m()\u001b[39m.\u001b[39;49m\u001b[39m__init__\u001b[39;49m(\n\u001b[1;32m    631\u001b[0m     chat_prompt_template\u001b[39m=\u001b[39;49mchat_prompt_template,\n\u001b[1;32m    632\u001b[0m     run_prompt_template\u001b[39m=\u001b[39;49mrun_prompt_template,\n\u001b[1;32m    633\u001b[0m     additional_tools\u001b[39m=\u001b[39;49madditional_tools,\n\u001b[1;32m    634\u001b[0m )\n",
      "File \u001b[0;32m~/code/MaCoZu/social-media-stats-servant/project/lib/python3.10/site-packages/transformers/tools/agents.py:215\u001b[0m, in \u001b[0;36mAgent.__init__\u001b[0;34m(self, chat_prompt_template, run_prompt_template, additional_tools)\u001b[0m\n\u001b[1;32m    214\u001b[0m \u001b[39mdef\u001b[39;00m \u001b[39m__init__\u001b[39m(\u001b[39mself\u001b[39m, chat_prompt_template\u001b[39m=\u001b[39m\u001b[39mNone\u001b[39;00m, run_prompt_template\u001b[39m=\u001b[39m\u001b[39mNone\u001b[39;00m, additional_tools\u001b[39m=\u001b[39m\u001b[39mNone\u001b[39;00m):\n\u001b[0;32m--> 215\u001b[0m     _setup_default_tools()\n\u001b[1;32m    217\u001b[0m     agent_name \u001b[39m=\u001b[39m \u001b[39mself\u001b[39m\u001b[39m.\u001b[39m\u001b[39m__class__\u001b[39m\u001b[39m.\u001b[39m\u001b[39m__name__\u001b[39m\n\u001b[1;32m    218\u001b[0m     \u001b[39mself\u001b[39m\u001b[39m.\u001b[39mchat_prompt_template \u001b[39m=\u001b[39m download_prompt(chat_prompt_template, agent_name, mode\u001b[39m=\u001b[39m\u001b[39m\"\u001b[39m\u001b[39mchat\u001b[39m\u001b[39m\"\u001b[39m)\n",
      "File \u001b[0;32m~/code/MaCoZu/social-media-stats-servant/project/lib/python3.10/site-packages/transformers/tools/agents.py:108\u001b[0m, in \u001b[0;36m_setup_default_tools\u001b[0;34m()\u001b[0m\n\u001b[1;32m    106\u001b[0m remote_tools \u001b[39m=\u001b[39m get_remote_tools()\n\u001b[1;32m    107\u001b[0m \u001b[39mfor\u001b[39;00m task_name, tool_class_name \u001b[39min\u001b[39;00m TASK_MAPPING\u001b[39m.\u001b[39mitems():\n\u001b[0;32m--> 108\u001b[0m     tool_class \u001b[39m=\u001b[39m \u001b[39mgetattr\u001b[39;49m(tools_module, tool_class_name)\n\u001b[1;32m    109\u001b[0m     description \u001b[39m=\u001b[39m tool_class\u001b[39m.\u001b[39mdescription\n\u001b[1;32m    110\u001b[0m     HUGGINGFACE_DEFAULT_TOOLS[tool_class\u001b[39m.\u001b[39mname] \u001b[39m=\u001b[39m PreTool(task\u001b[39m=\u001b[39mtask_name, description\u001b[39m=\u001b[39mdescription, repo_id\u001b[39m=\u001b[39m\u001b[39mNone\u001b[39;00m)\n",
      "File \u001b[0;32m~/code/MaCoZu/social-media-stats-servant/project/lib/python3.10/site-packages/transformers/utils/import_utils.py:1177\u001b[0m, in \u001b[0;36m_LazyModule.__getattr__\u001b[0;34m(self, name)\u001b[0m\n\u001b[1;32m   1175\u001b[0m     value \u001b[39m=\u001b[39m \u001b[39mgetattr\u001b[39m(module, name)\n\u001b[1;32m   1176\u001b[0m \u001b[39melse\u001b[39;00m:\n\u001b[0;32m-> 1177\u001b[0m     \u001b[39mraise\u001b[39;00m \u001b[39mAttributeError\u001b[39;00m(\u001b[39mf\u001b[39m\u001b[39m\"\u001b[39m\u001b[39mmodule \u001b[39m\u001b[39m{\u001b[39;00m\u001b[39mself\u001b[39m\u001b[39m.\u001b[39m\u001b[39m__name__\u001b[39m\u001b[39m}\u001b[39;00m\u001b[39m has no attribute \u001b[39m\u001b[39m{\u001b[39;00mname\u001b[39m}\u001b[39;00m\u001b[39m\"\u001b[39m)\n\u001b[1;32m   1179\u001b[0m \u001b[39msetattr\u001b[39m(\u001b[39mself\u001b[39m, name, value)\n\u001b[1;32m   1180\u001b[0m \u001b[39mreturn\u001b[39;00m value\n",
      "\u001b[0;31mAttributeError\u001b[0m: module transformers.tools has no attribute DocumentQuestionAnsweringTool"
     ]
    }
   ],
   "source": [
    "from transformers.tools import HfAgent\n",
    "import textract\n",
    "\n",
    "text = textract.process('debatten.pdf').decode('utf-8')\n",
    "\n",
    "agent = HfAgent(\"https://api-inference.huggingface.co/models/bigcode/starcoder\")\n",
    "agent.run(f\"can you summarize {text} for me\")"
   ]
  },
  {
   "cell_type": "markdown",
   "metadata": {},
   "source": [
    "# Chat Prompt Template"
   ]
  },
  {
   "cell_type": "code",
   "execution_count": 43,
   "metadata": {},
   "outputs": [
    {
     "data": {
      "text/plain": [
       "AIMessage(content='Two decades ago, my income allowed me to purchase steak on a daily basis, indicating a relatively high standard of living.', additional_kwargs={}, example=False)"
      ]
     },
     "execution_count": 43,
     "metadata": {},
     "output_type": "execute_result"
    }
   ],
   "source": [
    "import openai\n",
    "from langchain.prompts import ChatPromptTemplate\n",
    "from langchain.prompts.chat import SystemMessage, HumanMessagePromptTemplate\n",
    "from langchain.chat_models import ChatOpenAI\n",
    "\n",
    "\n",
    "\n",
    "template = ChatPromptTemplate.from_messages(\n",
    "    [\n",
    "        SystemMessage(\n",
    "            content=(\n",
    "                \"You are a very technical economist, reformulating the user's text into economic terms,\"\n",
    "                 \" with references to income, work and quality of living.\" \n",
    "                 \"You try to extract economic keywords from the user's text,\" \n",
    "                 \" the keywords should help to find the corresponding statistic in a statistical database.\"\n",
    "            )\n",
    "        ),\n",
    "        HumanMessagePromptTemplate.from_template(\"{text}\"),\n",
    "    ]\n",
    ")\n",
    "\n",
    "\n",
    "llm = ChatOpenAI(model_name=\"gpt-3.5-turbo\")\n",
    "llm(template.format_messages(text='20 years ago I could afford to eat steak every day.'))"
   ]
  },
  {
   "cell_type": "markdown",
   "metadata": {},
   "source": [
    "# Retriever"
   ]
  },
  {
   "cell_type": "code",
   "execution_count": null,
   "metadata": {},
   "outputs": [],
   "source": [
    "from langchain.chat_models.openai import ChatOpenAI\n",
    "from langchain.embeddings import OpenAIEmbeddings\n",
    "from langchain.retrievers.web_research import WebResearchRetriever\n",
    "from langchain.utilities import GoogleSearchAPIWrapper\n",
    "from langchain.vectorstores import Chroma\n",
    "\n",
    "# Vectorstore\n",
    "vectorstore = Chroma(\n",
    "    embedding_function=OpenAIEmbeddings(),\n",
    "    persist_directory=\"./chroma_db_oai\",\n",
    ")\n",
    "\n",
    "# LLM\n",
    "llm = ChatOpenAI( temperature=0 )\n",
    "\n",
    "# Custom Search with Google Programmable Search Engine\n",
    "search = GoogleSearchAPIWrapper()\n",
    "\n",
    "# Initialize\n",
    "web_research_retriever = WebResearchRetriever.from_llm(\n",
    "    vectorstore=vectorstore,\n",
    "    llm=llm,\n",
    "    search=search,\n",
    ")\n",
    "\n",
    "from langchain.chains import RetrievalQAWithSourcesChain\n",
    "\n",
    "user_input = \"What was the relative income 20 years ago in germany.\"\n",
    "qa_chain = RetrievalQAWithSourcesChain.from_chain_type(\n",
    "    llm, retriever=web_research_retriever\n",
    ")\n",
    "\n",
    "result = qa_chain({\"question\": user_input})\n",
    "result"
   ]
  }
 ],
 "metadata": {
  "kernelspec": {
   "display_name": "project",
   "language": "python",
   "name": "python3"
  },
  "language_info": {
   "codemirror_mode": {
    "name": "ipython",
    "version": 3
   },
   "file_extension": ".py",
   "mimetype": "text/x-python",
   "name": "python",
   "nbconvert_exporter": "python",
   "pygments_lexer": "ipython3",
   "version": "3.10.12"
  },
  "orig_nbformat": 4
 },
 "nbformat": 4,
 "nbformat_minor": 2
}

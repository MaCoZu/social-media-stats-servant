{
 "cells": [
  {
   "cell_type": "code",
   "execution_count": 13,
   "metadata": {},
   "outputs": [],
   "source": [
    "import os\n",
    "from dotenv import load_dotenv\n",
    "load_dotenv()\n",
    "\n",
    "# openai\n",
    "OPENAI_API_KEY = os.getenv('OPENAI_API_KEY')\n",
    "\n",
    "# huggingface\n",
    "HF_TOKEN = os.getenv('HF_ACCESS_TOKEN')\n",
    "\n",
    "# google\n",
    "GOOGLE_CSE_ID = os.getenv('GOOGLE_CSE_ID')\n",
    "GOOGLE_API_KEY = os.getenv('GOOGLE_API_KEY')"
   ]
  },
  {
   "cell_type": "markdown",
   "metadata": {},
   "source": [
    "# HTML2Text\n",
    "\n",
    "HTML2Text converts HTML into plain text (with markdown-like formatting) without any specific tag manipulation.\n",
    "\n",
    "To extract human-readable text without needing to manipulate specific HTML elements."
   ]
  },
  {
   "cell_type": "code",
   "execution_count": 2,
   "metadata": {},
   "outputs": [
    {
     "name": "stderr",
     "output_type": "stream",
     "text": [
      "Fetching pages: 100%|##########| 2/2 [00:04<00:00,  2.11s/it]\n"
     ]
    }
   ],
   "source": [
    "from langchain.document_loaders import AsyncHtmlLoader\n",
    "from langchain.document_transformers import Html2TextTransformer\n",
    "\n",
    "urls = [\"https://www.gesetze-im-internet.de/baf_gzuschlagsv/BJNR009350986.html\",\n",
    "        \"https://www.gesetze-im-internet.de/baf_g/BJNR014090971.html\"\n",
    "        ]\n",
    "\n",
    "loader = AsyncHtmlLoader(urls)\n",
    "docs = loader.load()\n",
    "\n",
    "html2text = Html2TextTransformer()\n",
    "docs_transformed = html2text.transform_documents(docs)"
   ]
  },
  {
   "cell_type": "code",
   "execution_count": 8,
   "metadata": {},
   "outputs": [
    {
     "name": "stdout",
     "output_type": "stream",
     "text": [
      "32 am 1.1.1991 in Kraft getreten\n",
      "\n",
      "Nichtamtliches Inhaltsverzeichnis\n",
      "\n",
      "### Eingangsformel\n",
      "\n",
      "Auf Grund des § 13 Abs. 4 des Bundesausbildungsforderungsgesetzes in der\n",
      "Fassung der Bekanntmachung vom 6. Juni 1983 (BGBl. I S. 645) verordnet die\n",
      "Bundesregierung mit Zustimmung des Bundesrates:\n",
      "\n",
      "Nichtamtliches Inhaltsverzeichnis\n",
      "\n",
      "### § 1 Zuschlage zu dem Bedarf\n",
      "\n",
      "(1) Bei einer Ausbildung im Ausland werden in \n"
     ]
    }
   ],
   "source": [
    "print(docs_transformed[0].page_content[1000:1400])"
   ]
  },
  {
   "cell_type": "markdown",
   "metadata": {},
   "source": [
    "# Beautiful Soup\n",
    "\n",
    "Beautiful Soup offers more fine-grained control over HTML content, enabling specific tag extraction, removal, and content cleaning. It's suited for cases where you want to extract specific information and clean up the HTML content according to your needs."
   ]
  },
  {
   "cell_type": "code",
   "execution_count": null,
   "metadata": {},
   "outputs": [],
   "source": [
    "import pprint\n",
    "\n",
    "from langchain.chains import create_extraction_chain\n",
    "from langchain.chat_models import ChatOpenAI\n",
    "from langchain.document_loaders import AsyncChromiumLoader\n",
    "from langchain.document_transformers import BeautifulSoupTransformer\n",
    "from langchain.text_splitter import RecursiveCharacterTextSplitter\n",
    "\n",
    "import nest_asyncio\n",
    "\n",
    "nest_asyncio.apply()\n",
    "\n",
    "\n",
    "llm = ChatOpenAI(temperature=0, model=\"gpt-3.5-turbo-0613\")\n",
    "\n",
    "\n",
    "schema = {\n",
    "    \"properties\": {\n",
    "        \"news_article_title\": {\"type\": \"string\"},\n",
    "        \"news_article_summary\": {\"type\": \"string\"},\n",
    "    },\n",
    "    \"required\": [\"news_article_title\", \"news_article_summary\"],\n",
    "}\n",
    "\n",
    "\n",
    "def extract(content: str, schema: dict):\n",
    "    return create_extraction_chain(schema=schema, llm=llm).run(content)\n",
    "\n",
    "\n",
    "def scrape_with_playwright(urls, schema):\n",
    "    loader = AsyncChromiumLoader(urls)\n",
    "    docs = loader.load()\n",
    "    bs_transformer = BeautifulSoupTransformer()\n",
    "    docs_transformed = bs_transformer.transform_documents(\n",
    "        docs, tags_to_extract=[\"span\"]\n",
    "    )\n",
    "    print(\"Extracting content with LLM\")\n",
    "\n",
    "    # Grab the first 1000 tokens of the site\n",
    "    splitter = RecursiveCharacterTextSplitter.from_tiktoken_encoder(\n",
    "        chunk_size=1000, chunk_overlap=0\n",
    "    )\n",
    "    splits = splitter.split_documents(docs_transformed)\n",
    "\n",
    "    # Process the first split\n",
    "    extracted_content = extract(schema=schema, content=splits[0].page_content)\n",
    "    pprint.pprint(extracted_content)\n",
    "    return extracted_content\n",
    "\n",
    "\n",
    "urls = [\"https://www.wsj.com\"]\n",
    "extracted_content = scrape_with_playwright(urls, schema=schema)"
   ]
  },
  {
   "cell_type": "markdown",
   "metadata": {},
   "source": [
    "# Serper"
   ]
  },
  {
   "cell_type": "code",
   "execution_count": 8,
   "metadata": {
    "vscode": {
     "languageId": "html"
    }
   },
   "outputs": [
    {
     "ename": "SyntaxError",
     "evalue": "invalid syntax (4280331964.py, line 1)",
     "output_type": "error",
     "traceback": [
      "\u001b[0;36m  Cell \u001b[0;32mIn[8], line 1\u001b[0;36m\u001b[0m\n\u001b[0;31m    <img src=\"https://miro.medium.com/v2/resize:fit:4800/format:webp/1*5TnpUZnp4-sq8TuJGYe_-w.png\" alt=\"image info\"/>\u001b[0m\n\u001b[0m    ^\u001b[0m\n\u001b[0;31mSyntaxError\u001b[0m\u001b[0;31m:\u001b[0m invalid syntax\n"
     ]
    }
   ],
   "source": [
    "<img src=\"https://miro.medium.com/v2/resize:fit:4800/format:webp/1*5TnpUZnp4-sq8TuJGYe_-w.png\" alt=\"image info\" />"
   ]
  },
  {
   "cell_type": "code",
   "execution_count": 39,
   "metadata": {},
   "outputs": [
    {
     "name": "stdout",
     "output_type": "stream",
     "text": [
      "\n",
      "\n",
      "\u001b[1m> Entering new AgentExecutor chain...\u001b[0m\n",
      "\u001b[32;1m\u001b[1;3m Yes.\n",
      "Follow up: What is the Wohnungsaufsichtsgesetz?\u001b[0m\n",
      "Intermediate answer: \u001b[36;1m\u001b[1;3m['Ein Wohnungsaufsichtsgesetz regelt Pflichten der Vermieter. Deutschland Bearbeiten. In Deutschland existieren in einigen Bundesländern ...']\u001b[0m\n",
      "\u001b[32;1m\u001b[1;3mFollow up: Where can I find the Wohnungsaufsichtsgesetz for Berlin Germany?\u001b[0m\n",
      "Intermediate answer: \u001b[36;1m\u001b[1;3m[\"It was based on a paragraph in Berlin's Wohnungsaufsichtsgesetz (housing regulation) which states that every rental flat must have adequate ...\"]\u001b[0m\n",
      "\u001b[32;1m\u001b[1;3mSo the final answer is: It was based on a paragraph in Berlin's Wohnungsaufsichtsgesetz (housing regulation) which states that every rental flat must have adequate ...\u001b[0m\n",
      "\n",
      "\u001b[1m> Finished chain.\u001b[0m\n"
     ]
    },
    {
     "data": {
      "text/plain": [
       "\"It was based on a paragraph in Berlin's Wohnungsaufsichtsgesetz (housing regulation) which states that every rental flat must have adequate ...\""
      ]
     },
     "execution_count": 39,
     "metadata": {},
     "output_type": "execute_result"
    }
   ],
   "source": [
    "from langchain import OpenAI, SerpAPIWrapper\n",
    "from langchain.agents import initialize_agent, Tool\n",
    "from langchain.agents import AgentType\n",
    "\n",
    "SERPAPI_API_KEY = os.getenv('SERPAPI_API_KEY')\n",
    "\n",
    "llm = OpenAI(temperature=0)\n",
    "\n",
    "search = SerpAPIWrapper(serpapi_api_key=SERPAPI_API_KEY)\n",
    "\n",
    "tools = [\n",
    "    Tool(\n",
    "        name=\"Intermediate Answer\",\n",
    "        func=search.run,\n",
    "        description=\"useful for when you need to ask with search\", ) ]\n",
    "\n",
    "self_ask_with_search = initialize_agent(\n",
    "    tools, llm, agent=AgentType.SELF_ASK_WITH_SEARCH, verbose=True\n",
    ")\n",
    "self_ask_with_search.run(\n",
    "    \"Where can I find the Wohnungsaufsichtsgesetz for Berlin Germany?\"\n",
    ")"
   ]
  },
  {
   "cell_type": "markdown",
   "metadata": {},
   "source": [
    "# Google Programmable Search \n",
    "https://cse.google.com/cse.js?cx=8566b4b2cb2364df3"
   ]
  },
  {
   "cell_type": "code",
   "execution_count": 53,
   "metadata": {},
   "outputs": [
    {
     "data": {
      "text/plain": [
       "[{'title': 'Wohnungsaufsichtsgesetz – Wikipedia',\n",
       "  'link': 'https://de.wikipedia.org/wiki/Wohnungsaufsichtsgesetz',\n",
       "  'snippet': 'Ein Wohnungsaufsichtsgesetz regelt Pflichten der Vermieter. Deutschland Bearbeiten. In Deutschland existieren in einigen Bundesländern\\xa0...'},\n",
       " {'title': 'Wohnungsaufsichtsgesetz (Berlin) – Wikipedia',\n",
       "  'link': 'https://de.wikipedia.org/wiki/Wohnungsaufsichtsgesetz_(Berlin)',\n",
       "  'snippet': 'Das Gesetz zur Beseitigung von Wohnungsmißständen in Berlin (Wohnungsaufsichtsgesetz – WoAufG Bln) in der Fassung vom 3.'},\n",
       " {'title': 'Susanna Kahlefeld - Gesetz- und Verordnungsblatt',\n",
       "  'link': 'https://www.berlin.de/sen/justiz/service/gesetze-und-verordnungen/2020/ausgabe-nr-15-vom-18-4-2020-s-245-256.pdf',\n",
       "  'snippet': 'Apr 18, 2020 ... zur Änderung des Wohnungsaufsichtsgesetzes. Vom 7. April 2020 ... Das Wohnungsaufsichtsgesetz in der Fassung vom 3. April 1990.'},\n",
       " {'title': 'Gesetz- und Verordnungsblatt',\n",
       "  'link': 'https://www.berlin.de/sen/justiz/service/gesetze-und-verordnungen/2019/ausgabe-nr-10-vom-29-3-2019-s-233-244.pdf',\n",
       "  'snippet': 'Mar 29, 2019 ... zur Änderung des Wohnungsaufsichtsgesetzes. Vom 20. März 2019. Das Abgeordnetenhaus hat das folgende Gesetz beschlossen: Artikel 1.'},\n",
       " {'title': 'Andrea Breit – Wikipedia',\n",
       "  'link': 'https://de.wikipedia.org/wiki/Andrea_Breit',\n",
       "  'snippet': 'Andrea Breit (geboren 8. April 1963 in München) ist eine deutsche Juristin, Richterin und ... Wohnungsaufsichtsgesetz, Raumordnung und Landesplanung, Baurecht,\\xa0...'},\n",
       " {'title': 'Kategorie:Gesetz (Berlin) – Wikipedia',\n",
       "  'link': 'https://de.wikipedia.org/wiki/Kategorie:Gesetz_(Berlin)',\n",
       "  'snippet': 'Wohnungsaufsichtsgesetz (Berlin). Z. Zweckentfremdungsverbot-Gesetz (Berlin) · Zuletzt bearbeitet vor 3 Jahren. Sprachen. Diese Seite ist nicht in anderen\\xa0...'}]"
      ]
     },
     "execution_count": 53,
     "metadata": {},
     "output_type": "execute_result"
    }
   ],
   "source": [
    "from langchain.tools import Tool\n",
    "from langchain.utilities import GoogleSearchAPIWrapper\n",
    "\n",
    "\n",
    "search = GoogleSearchAPIWrapper(google_api_key=GOOGLE_API_KEY, google_cse_id=GOOGLE_CSE_ID)\n",
    "\n",
    "def top5_results(query):\n",
    "    return search.results(query, 6)\n",
    "\n",
    "\n",
    "tool = Tool(\n",
    "    name=\"Google Search Snippets\",\n",
    "    description=\"Search Google for recent results.\",\n",
    "    func=top5_results,\n",
    ")\n",
    "\n",
    "\n",
    "tool.run(\"Wohnungsaufsichtsgesetz?\")"
   ]
  },
  {
   "cell_type": "markdown",
   "metadata": {},
   "source": [
    "# HfAgent"
   ]
  },
  {
   "cell_type": "code",
   "execution_count": 54,
   "metadata": {},
   "outputs": [
    {
     "name": "stdout",
     "output_type": "stream",
     "text": [
      "Token will not been saved to git credential helper. Pass `add_to_git_credential=True` if you want to set the git credential as well.\n",
      "Token is valid (permission: write).\n",
      "Your token has been saved to /home/mz/.cache/huggingface/token\n",
      "Login successful\n"
     ]
    }
   ],
   "source": [
    "from huggingface_hub import login\n",
    "# login(\"<YOUR_TOKEN>\")\n",
    "login(\"\")"
   ]
  },
  {
   "cell_type": "code",
   "execution_count": null,
   "metadata": {},
   "outputs": [],
   "source": [
    "from transformers.tools import HfAgent\n",
    "import textract\n",
    "\n",
    "text = textract.process('debatten.pdf').decode('utf-8')\n",
    "\n",
    "agent = HfAgent(\"https://api-inference.huggingface.co/models/bigcode/starcoder\")\n",
    "agent.run(f\"can you summarize {text} for me\")"
   ]
  },
  {
   "cell_type": "markdown",
   "metadata": {},
   "source": [
    "# Chat Prompt Template"
   ]
  },
  {
   "cell_type": "code",
   "execution_count": 43,
   "metadata": {},
   "outputs": [
    {
     "data": {
      "text/plain": [
       "AIMessage(content='Two decades ago, my income allowed me to purchase steak on a daily basis, indicating a relatively high standard of living.', additional_kwargs={}, example=False)"
      ]
     },
     "execution_count": 43,
     "metadata": {},
     "output_type": "execute_result"
    }
   ],
   "source": [
    "import openai\n",
    "from langchain.prompts import ChatPromptTemplate\n",
    "from langchain.prompts.chat import SystemMessage, HumanMessagePromptTemplate\n",
    "from langchain.chat_models import ChatOpenAI\n",
    "\n",
    "template = ChatPromptTemplate.from_messages(\n",
    "    [\n",
    "        SystemMessage(\n",
    "            content=(\n",
    "                \"You are a very technical economist, reformulating the user's text into economic terms,\"\n",
    "                 \" with references to income, work and quality of living.\" \n",
    "                 \"You try to extract economic keywords from the user's text,\" \n",
    "                 \" the keywords should help to find the corresponding statistic in a statistical database.\"\n",
    "            )\n",
    "        ),\n",
    "        HumanMessagePromptTemplate.from_template(\"{text}\"),\n",
    "    ]\n",
    ")\n",
    "\n",
    "\n",
    "llm = ChatOpenAI(model_name=\"gpt-3.5-turbo\")\n",
    "llm(template.format_messages(text='20 years ago I could afford to eat steak every day.'))"
   ]
  },
  {
   "cell_type": "markdown",
   "metadata": {},
   "source": [
    "# Retriever"
   ]
  },
  {
   "cell_type": "code",
   "execution_count": null,
   "metadata": {},
   "outputs": [],
   "source": [
    "from langchain.chat_models.openai import ChatOpenAI\n",
    "from langchain.embeddings import OpenAIEmbeddings\n",
    "from langchain.retrievers.web_research import WebResearchRetriever\n",
    "from langchain.utilities import GoogleSearchAPIWrapper\n",
    "from langchain.vectorstores import Chroma\n",
    "\n",
    "# Vectorstore\n",
    "vectorstore = Chroma(\n",
    "    embedding_function=OpenAIEmbeddings(),\n",
    "    persist_directory=\"./chroma_db_oai\",\n",
    ")\n",
    "\n",
    "# LLM\n",
    "llm = ChatOpenAI( temperature=0 )\n",
    "\n",
    "# Custom Search with Google Programmable Search Engine\n",
    "search = GoogleSearchAPIWrapper()\n",
    "\n",
    "# Initialize\n",
    "web_research_retriever = WebResearchRetriever.from_llm(\n",
    "    vectorstore=vectorstore,\n",
    "    llm=llm,\n",
    "    search=search,\n",
    ")\n",
    "\n",
    "from langchain.chains import RetrievalQAWithSourcesChain\n",
    "\n",
    "user_input = \"What was the relative income 20 years ago in germany.\"\n",
    "qa_chain = RetrievalQAWithSourcesChain.from_chain_type(\n",
    "    llm, retriever=web_research_retriever\n",
    ")\n",
    "\n",
    "result = qa_chain({\"question\": user_input})\n",
    "result"
   ]
  }
 ],
 "metadata": {
  "kernelspec": {
   "display_name": "project",
   "language": "python",
   "name": "python3"
  },
  "language_info": {
   "codemirror_mode": {
    "name": "ipython",
    "version": 3
   },
   "file_extension": ".py",
   "mimetype": "text/x-python",
   "name": "python",
   "nbconvert_exporter": "python",
   "pygments_lexer": "ipython3",
   "version": "3.10.12"
  },
  "orig_nbformat": 4
 },
 "nbformat": 4,
 "nbformat_minor": 2
}
